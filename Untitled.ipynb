{
 "cells": [
  {
   "cell_type": "code",
   "execution_count": 5,
   "id": "0f5151c3",
   "metadata": {},
   "outputs": [
    {
     "name": "stdout",
     "output_type": "stream",
     "text": [
      "[[1.         0.25197632 0.43643578 ... 0.         0.         0.        ]\n",
      " [0.25197632 1.         0.25660012 ... 0.19245009 0.1490712  0.0860663 ]\n",
      " [0.43643578 0.25660012 1.         ... 0.11111111 0.0860663  0.0993808 ]\n",
      " ...\n",
      " [0.         0.19245009 0.11111111 ... 1.         0.77459667 0.2981424 ]\n",
      " [0.         0.1490712  0.0860663  ... 0.77459667 1.         0.34641016]\n",
      " [0.         0.0860663  0.0993808  ... 0.2981424  0.34641016 1.        ]]\n"
     ]
    }
   ],
   "source": [
    "import pickle\n",
    "with open('similarity.pkl', 'rb') as file:\n",
    " my_object = pickle.load(file)\n",
    " print(my_object)"
   ]
  },
  {
   "cell_type": "code",
   "execution_count": null,
   "id": "5a4c7026",
   "metadata": {},
   "outputs": [],
   "source": []
  }
 ],
 "metadata": {
  "kernelspec": {
   "display_name": "Python 3 (ipykernel)",
   "language": "python",
   "name": "python3"
  },
  "language_info": {
   "codemirror_mode": {
    "name": "ipython",
    "version": 3
   },
   "file_extension": ".py",
   "mimetype": "text/x-python",
   "name": "python",
   "nbconvert_exporter": "python",
   "pygments_lexer": "ipython3",
   "version": "3.11.5"
  }
 },
 "nbformat": 4,
 "nbformat_minor": 5
}
