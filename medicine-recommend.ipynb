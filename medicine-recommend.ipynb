{
 "cells": [
  {
   "cell_type": "code",
   "execution_count": 4,
   "metadata": {
    "execution": {
     "iopub.execute_input": "2022-05-26T15:22:17.329081Z",
     "iopub.status.busy": "2022-05-26T15:22:17.328665Z",
     "iopub.status.idle": "2022-05-26T15:22:17.352018Z",
     "shell.execute_reply": "2022-05-26T15:22:17.350989Z",
     "shell.execute_reply.started": "2022-05-26T15:22:17.329047Z"
    }
   },
   "outputs": [
    {
     "data": {
      "text/html": [
       "<div>\n",
       "<style scoped>\n",
       "    .dataframe tbody tr th:only-of-type {\n",
       "        vertical-align: middle;\n",
       "    }\n",
       "\n",
       "    .dataframe tbody tr th {\n",
       "        vertical-align: top;\n",
       "    }\n",
       "\n",
       "    .dataframe thead th {\n",
       "        text-align: right;\n",
       "    }\n",
       "</style>\n",
       "<table border=\"1\" class=\"dataframe\">\n",
       "  <thead>\n",
       "    <tr style=\"text-align: right;\">\n",
       "      <th></th>\n",
       "      <th>index</th>\n",
       "      <th>Drug_Name</th>\n",
       "      <th>Reason</th>\n",
       "      <th>Description</th>\n",
       "    </tr>\n",
       "  </thead>\n",
       "  <tbody>\n",
       "    <tr>\n",
       "      <th>0</th>\n",
       "      <td>1</td>\n",
       "      <td>A CN Gel(Topical) 20gmA CN Soap 75gm</td>\n",
       "      <td>Acne</td>\n",
       "      <td>Mild to moderate acne (spots)</td>\n",
       "    </tr>\n",
       "    <tr>\n",
       "      <th>1</th>\n",
       "      <td>2</td>\n",
       "      <td>A Ret 0.05% Gel 20gmA Ret 0.1% Gel 20gmA Ret 0...</td>\n",
       "      <td>Acne</td>\n",
       "      <td>A RET 0.025% is a prescription medicine that i...</td>\n",
       "    </tr>\n",
       "    <tr>\n",
       "      <th>2</th>\n",
       "      <td>3</td>\n",
       "      <td>ACGEL CL NANO Gel 15gm</td>\n",
       "      <td>Acne</td>\n",
       "      <td>It is used to treat acne vulgaris in people 12...</td>\n",
       "    </tr>\n",
       "    <tr>\n",
       "      <th>3</th>\n",
       "      <td>4</td>\n",
       "      <td>ACGEL NANO Gel 15gm</td>\n",
       "      <td>Acne</td>\n",
       "      <td>It is used to treat acne vulgaris in people 12...</td>\n",
       "    </tr>\n",
       "    <tr>\n",
       "      <th>4</th>\n",
       "      <td>5</td>\n",
       "      <td>Acleen 1% Lotion 25ml</td>\n",
       "      <td>Acne</td>\n",
       "      <td>treat the most severe form of acne (nodular ac...</td>\n",
       "    </tr>\n",
       "  </tbody>\n",
       "</table>\n",
       "</div>"
      ],
      "text/plain": [
       "   index                                          Drug_Name Reason  \\\n",
       "0      1               A CN Gel(Topical) 20gmA CN Soap 75gm   Acne   \n",
       "1      2  A Ret 0.05% Gel 20gmA Ret 0.1% Gel 20gmA Ret 0...   Acne   \n",
       "2      3                             ACGEL CL NANO Gel 15gm   Acne   \n",
       "3      4                                ACGEL NANO Gel 15gm   Acne   \n",
       "4      5                              Acleen 1% Lotion 25ml   Acne   \n",
       "\n",
       "                                         Description  \n",
       "0                      Mild to moderate acne (spots)  \n",
       "1  A RET 0.025% is a prescription medicine that i...  \n",
       "2  It is used to treat acne vulgaris in people 12...  \n",
       "3  It is used to treat acne vulgaris in people 12...  \n",
       "4  treat the most severe form of acne (nodular ac...  "
      ]
     },
     "execution_count": 4,
     "metadata": {},
     "output_type": "execute_result"
    }
   ],
   "source": [
    "medicines.head()"
   ]
  },
  {
   "cell_type": "code",
   "execution_count": 4,
   "metadata": {
    "execution": {
     "iopub.execute_input": "2022-05-26T15:22:24.310198Z",
     "iopub.status.busy": "2022-05-26T15:22:24.309304Z",
     "iopub.status.idle": "2022-05-26T15:22:24.316390Z",
     "shell.execute_reply": "2022-05-26T15:22:24.315341Z",
     "shell.execute_reply.started": "2022-05-26T15:22:24.310152Z"
    }
   },
   "outputs": [],
   "source": [
    "medicines.shape"
   ]
  },
  {
   "cell_type": "code",
   "execution_count": 5,
   "metadata": {
    "execution": {
     "iopub.execute_input": "2022-05-26T15:22:30.317290Z",
     "iopub.status.busy": "2022-05-26T15:22:30.316922Z",
     "iopub.status.idle": "2022-05-26T15:22:30.330892Z",
     "shell.execute_reply": "2022-05-26T15:22:30.329902Z",
     "shell.execute_reply.started": "2022-05-26T15:22:30.317261Z"
    }
   },
   "outputs": [],
   "source": [
    "medicines.isnull().sum()"
   ]
  },
  {
   "cell_type": "code",
   "execution_count": 6,
   "metadata": {
    "execution": {
     "iopub.execute_input": "2022-05-26T15:22:36.541860Z",
     "iopub.status.busy": "2022-05-26T15:22:36.541469Z",
     "iopub.status.idle": "2022-05-26T15:22:36.558756Z",
     "shell.execute_reply": "2022-05-26T15:22:36.557372Z",
     "shell.execute_reply.started": "2022-05-26T15:22:36.541830Z"
    }
   },
   "outputs": [],
   "source": [
    "medicines.dropna(inplace=True)"
   ]
  },
  {
   "cell_type": "code",
   "execution_count": 7,
   "metadata": {
    "execution": {
     "iopub.execute_input": "2022-05-26T15:27:45.781805Z",
     "iopub.status.busy": "2022-05-26T15:27:45.781384Z",
     "iopub.status.idle": "2022-05-26T15:27:45.801395Z",
     "shell.execute_reply": "2022-05-26T15:27:45.800506Z",
     "shell.execute_reply.started": "2022-05-26T15:27:45.781772Z"
    }
   },
   "outputs": [],
   "source": [
    "medicines.duplicated().sum()"
   ]
  },
  {
   "cell_type": "code",
   "execution_count": 8,
   "metadata": {
    "execution": {
     "iopub.execute_input": "2022-05-26T15:27:52.263507Z",
     "iopub.status.busy": "2022-05-26T15:27:52.263107Z",
     "iopub.status.idle": "2022-05-26T15:27:52.271658Z",
     "shell.execute_reply": "2022-05-26T15:27:52.270787Z",
     "shell.execute_reply.started": "2022-05-26T15:27:52.263462Z"
    }
   },
   "outputs": [],
   "source": [
    "medicines['Description']"
   ]
  },
  {
   "cell_type": "code",
   "execution_count": 9,
   "metadata": {
    "execution": {
     "iopub.execute_input": "2022-05-26T15:27:59.454448Z",
     "iopub.status.busy": "2022-05-26T15:27:59.453961Z",
     "iopub.status.idle": "2022-05-26T15:27:59.484759Z",
     "shell.execute_reply": "2022-05-26T15:27:59.483653Z",
     "shell.execute_reply.started": "2022-05-26T15:27:59.454413Z"
    }
   },
   "outputs": [],
   "source": [
    "medicines['Description'].apply(lambda x:x.split())"
   ]
  },
  {
   "cell_type": "code",
   "execution_count": 10,
   "metadata": {
    "execution": {
     "iopub.execute_input": "2022-05-26T15:28:05.937681Z",
     "iopub.status.busy": "2022-05-26T15:28:05.937209Z",
     "iopub.status.idle": "2022-05-26T15:28:05.968340Z",
     "shell.execute_reply": "2022-05-26T15:28:05.967586Z",
     "shell.execute_reply.started": "2022-05-26T15:28:05.937648Z"
    }
   },
   "outputs": [],
   "source": [
    "medicines['Reason'] = medicines['Reason'].apply(lambda x:x.split())\n",
    "medicines['Description'] = medicines['Description'].apply(lambda x:x.split())"
   ]
  },
  {
   "cell_type": "code",
   "execution_count": 11,
   "metadata": {
    "execution": {
     "iopub.execute_input": "2022-05-26T15:28:11.782091Z",
     "iopub.status.busy": "2022-05-26T15:28:11.781739Z",
     "iopub.status.idle": "2022-05-26T15:28:11.919044Z",
     "shell.execute_reply": "2022-05-26T15:28:11.918271Z",
     "shell.execute_reply.started": "2022-05-26T15:28:11.782064Z"
    }
   },
   "outputs": [],
   "source": [
    "medicines['Description'] = medicines['Description'].apply(lambda x:[i.replace(\" \",\"\") for i in x])"
   ]
  },
  {
   "cell_type": "code",
   "execution_count": 12,
   "metadata": {
    "execution": {
     "iopub.execute_input": "2022-05-26T15:28:17.590729Z",
     "iopub.status.busy": "2022-05-26T15:28:17.590328Z",
     "iopub.status.idle": "2022-05-26T15:28:17.626568Z",
     "shell.execute_reply": "2022-05-26T15:28:17.625869Z",
     "shell.execute_reply.started": "2022-05-26T15:28:17.590696Z"
    }
   },
   "outputs": [],
   "source": [
    "medicines['Description'] = medicines['Description'].apply(lambda x:[i.replace(\" \",\"\") for i in x])"
   ]
  },
  {
   "cell_type": "code",
   "execution_count": 13,
   "metadata": {
    "execution": {
     "iopub.execute_input": "2022-05-26T15:28:23.480397Z",
     "iopub.status.busy": "2022-05-26T15:28:23.479888Z",
     "iopub.status.idle": "2022-05-26T15:28:23.492088Z",
     "shell.execute_reply": "2022-05-26T15:28:23.491297Z",
     "shell.execute_reply.started": "2022-05-26T15:28:23.480365Z"
    }
   },
   "outputs": [],
   "source": [
    "medicines['tags'] = medicines['Description'] + medicines['Reason'] "
   ]
  },
  {
   "cell_type": "code",
   "execution_count": 14,
   "metadata": {
    "execution": {
     "iopub.execute_input": "2022-05-26T15:28:29.352803Z",
     "iopub.status.busy": "2022-05-26T15:28:29.352375Z",
     "iopub.status.idle": "2022-05-26T15:28:29.360610Z",
     "shell.execute_reply": "2022-05-26T15:28:29.359860Z",
     "shell.execute_reply.started": "2022-05-26T15:28:29.352771Z"
    }
   },
   "outputs": [],
   "source": [
    "new_df = medicines[['index','Drug_Name','tags']]"
   ]
  },
  {
   "cell_type": "code",
   "execution_count": 15,
   "metadata": {
    "execution": {
     "iopub.execute_input": "2022-05-26T15:28:34.878349Z",
     "iopub.status.busy": "2022-05-26T15:28:34.877949Z",
     "iopub.status.idle": "2022-05-26T15:28:34.895458Z",
     "shell.execute_reply": "2022-05-26T15:28:34.894661Z",
     "shell.execute_reply.started": "2022-05-26T15:28:34.878317Z"
    }
   },
   "outputs": [],
   "source": [
    "new_df"
   ]
  },
  {
   "cell_type": "code",
   "execution_count": 16,
   "metadata": {
    "execution": {
     "iopub.execute_input": "2022-05-26T15:28:40.536622Z",
     "iopub.status.busy": "2022-05-26T15:28:40.536242Z",
     "iopub.status.idle": "2022-05-26T15:28:40.555686Z",
     "shell.execute_reply": "2022-05-26T15:28:40.554737Z",
     "shell.execute_reply.started": "2022-05-26T15:28:40.536592Z"
    }
   },
   "outputs": [],
   "source": [
    "new_df['tags'].apply(lambda x:\" \".join(x))"
   ]
  },
  {
   "cell_type": "code",
   "execution_count": 17,
   "metadata": {
    "execution": {
     "iopub.execute_input": "2022-05-26T15:28:45.841708Z",
     "iopub.status.busy": "2022-05-26T15:28:45.841331Z",
     "iopub.status.idle": "2022-05-26T15:28:45.860869Z",
     "shell.execute_reply": "2022-05-26T15:28:45.859984Z",
     "shell.execute_reply.started": "2022-05-26T15:28:45.841677Z"
    }
   },
   "outputs": [],
   "source": [
    "new_df"
   ]
  },
  {
   "cell_type": "code",
   "execution_count": 18,
   "metadata": {
    "execution": {
     "iopub.execute_input": "2022-05-26T15:28:53.401750Z",
     "iopub.status.busy": "2022-05-26T15:28:53.401240Z",
     "iopub.status.idle": "2022-05-26T15:28:53.416558Z",
     "shell.execute_reply": "2022-05-26T15:28:53.415509Z",
     "shell.execute_reply.started": "2022-05-26T15:28:53.401710Z"
    }
   },
   "outputs": [],
   "source": [
    "new_df['tags'] = new_df['tags'].apply(lambda x:\" \".join(x))"
   ]
  },
  {
   "cell_type": "code",
   "execution_count": 19,
   "metadata": {
    "execution": {
     "iopub.execute_input": "2022-05-26T15:28:59.343874Z",
     "iopub.status.busy": "2022-05-26T15:28:59.343330Z",
     "iopub.status.idle": "2022-05-26T15:28:59.357037Z",
     "shell.execute_reply": "2022-05-26T15:28:59.356307Z",
     "shell.execute_reply.started": "2022-05-26T15:28:59.343830Z"
    }
   },
   "outputs": [],
   "source": [
    "new_df"
   ]
  },
  {
   "cell_type": "code",
   "execution_count": 20,
   "metadata": {
    "execution": {
     "iopub.execute_input": "2022-05-26T15:29:03.967503Z",
     "iopub.status.busy": "2022-05-26T15:29:03.967097Z",
     "iopub.status.idle": "2022-05-26T15:29:03.980230Z",
     "shell.execute_reply": "2022-05-26T15:29:03.979538Z",
     "shell.execute_reply.started": "2022-05-26T15:29:03.967459Z"
    }
   },
   "outputs": [],
   "source": [
    "new_df['tags'] = new_df['tags'].apply(lambda x:x.lower())"
   ]
  },
  {
   "cell_type": "code",
   "execution_count": 21,
   "metadata": {
    "execution": {
     "iopub.execute_input": "2022-05-26T15:29:09.900261Z",
     "iopub.status.busy": "2022-05-26T15:29:09.899763Z",
     "iopub.status.idle": "2022-05-26T15:29:09.913513Z",
     "shell.execute_reply": "2022-05-26T15:29:09.912614Z",
     "shell.execute_reply.started": "2022-05-26T15:29:09.900231Z"
    }
   },
   "outputs": [],
   "source": [
    "new_df"
   ]
  },
  {
   "cell_type": "code",
   "execution_count": 22,
   "metadata": {
    "execution": {
     "iopub.execute_input": "2022-05-26T15:29:15.034557Z",
     "iopub.status.busy": "2022-05-26T15:29:15.033480Z",
     "iopub.status.idle": "2022-05-26T15:29:32.260361Z",
     "shell.execute_reply": "2022-05-26T15:29:32.259461Z",
     "shell.execute_reply.started": "2022-05-26T15:29:15.034474Z"
    }
   },
   "outputs": [],
   "source": [
    "!pip install nltk"
   ]
  },
  {
   "cell_type": "code",
   "execution_count": 23,
   "metadata": {
    "execution": {
     "iopub.execute_input": "2022-05-26T15:29:32.262390Z",
     "iopub.status.busy": "2022-05-26T15:29:32.262070Z",
     "iopub.status.idle": "2022-05-26T15:29:33.396808Z",
     "shell.execute_reply": "2022-05-26T15:29:33.395776Z",
     "shell.execute_reply.started": "2022-05-26T15:29:32.262358Z"
    }
   },
   "outputs": [],
   "source": [
    "import nltk"
   ]
  },
  {
   "cell_type": "code",
   "execution_count": 24,
   "metadata": {
    "execution": {
     "iopub.execute_input": "2022-05-26T15:29:44.930999Z",
     "iopub.status.busy": "2022-05-26T15:29:44.930510Z",
     "iopub.status.idle": "2022-05-26T15:29:44.935856Z",
     "shell.execute_reply": "2022-05-26T15:29:44.934888Z",
     "shell.execute_reply.started": "2022-05-26T15:29:44.930950Z"
    }
   },
   "outputs": [],
   "source": [
    "from nltk.stem.porter import PorterStemmer\n",
    "ps = PorterStemmer()"
   ]
  },
  {
   "cell_type": "code",
   "execution_count": 25,
   "metadata": {
    "execution": {
     "iopub.execute_input": "2022-05-26T15:29:57.554659Z",
     "iopub.status.busy": "2022-05-26T15:29:57.554233Z",
     "iopub.status.idle": "2022-05-26T15:30:14.886756Z",
     "shell.execute_reply": "2022-05-26T15:30:14.885564Z",
     "shell.execute_reply.started": "2022-05-26T15:29:57.554624Z"
    }
   },
   "outputs": [],
   "source": [
    "!pip install -U scikit-learn scipy matplotlib"
   ]
  },
  {
   "cell_type": "code",
   "execution_count": 27,
   "metadata": {
    "execution": {
     "iopub.execute_input": "2022-05-26T15:30:19.262947Z",
     "iopub.status.busy": "2022-05-26T15:30:19.262540Z",
     "iopub.status.idle": "2022-05-26T15:30:19.267598Z",
     "shell.execute_reply": "2022-05-26T15:30:19.266709Z",
     "shell.execute_reply.started": "2022-05-26T15:30:19.262907Z"
    }
   },
   "outputs": [],
   "source": [
    "from sklearn.feature_extraction.text import CountVectorizer\n",
    "cv = CountVectorizer(stop_words='english',max_features=5000)"
   ]
  },
  {
   "cell_type": "code",
   "execution_count": 28,
   "metadata": {
    "execution": {
     "iopub.execute_input": "2022-05-26T15:30:34.110883Z",
     "iopub.status.busy": "2022-05-26T15:30:34.110440Z",
     "iopub.status.idle": "2022-05-26T15:30:34.115964Z",
     "shell.execute_reply": "2022-05-26T15:30:34.115054Z",
     "shell.execute_reply.started": "2022-05-26T15:30:34.110851Z"
    }
   },
   "outputs": [],
   "source": [
    "def stem(text):\n",
    "  y = []\n",
    "\n",
    "  for i in text.split():\n",
    "    y.append(ps.stem(i))\n",
    "\n",
    "  return \" \".join(y)  "
   ]
  },
  {
   "cell_type": "code",
   "execution_count": 29,
   "metadata": {
    "execution": {
     "iopub.execute_input": "2022-05-26T15:30:40.638132Z",
     "iopub.status.busy": "2022-05-26T15:30:40.637709Z",
     "iopub.status.idle": "2022-05-26T15:30:43.759883Z",
     "shell.execute_reply": "2022-05-26T15:30:43.758904Z",
     "shell.execute_reply.started": "2022-05-26T15:30:40.638098Z"
    }
   },
   "outputs": [],
   "source": [
    "new_df['tags'] = new_df['tags'].apply(stem)"
   ]
  },
  {
   "cell_type": "code",
   "execution_count": 30,
   "metadata": {
    "execution": {
     "iopub.execute_input": "2022-05-26T15:30:47.868994Z",
     "iopub.status.busy": "2022-05-26T15:30:47.868441Z",
     "iopub.status.idle": "2022-05-26T15:30:48.096978Z",
     "shell.execute_reply": "2022-05-26T15:30:48.096104Z",
     "shell.execute_reply.started": "2022-05-26T15:30:47.868951Z"
    }
   },
   "outputs": [],
   "source": [
    "cv.fit_transform(new_df['tags']).toarray().shape"
   ]
  },
  {
   "cell_type": "code",
   "execution_count": 31,
   "metadata": {
    "execution": {
     "iopub.execute_input": "2022-05-26T15:30:54.495313Z",
     "iopub.status.busy": "2022-05-26T15:30:54.494898Z",
     "iopub.status.idle": "2022-05-26T15:30:54.713078Z",
     "shell.execute_reply": "2022-05-26T15:30:54.712369Z",
     "shell.execute_reply.started": "2022-05-26T15:30:54.495280Z"
    }
   },
   "outputs": [],
   "source": [
    "vectors = cv.fit_transform(new_df['tags']).toarray()"
   ]
  },
  {
   "cell_type": "code",
   "execution_count": 32,
   "metadata": {
    "execution": {
     "iopub.execute_input": "2022-05-26T15:30:59.893280Z",
     "iopub.status.busy": "2022-05-26T15:30:59.892872Z",
     "iopub.status.idle": "2022-05-26T15:30:59.916357Z",
     "shell.execute_reply": "2022-05-26T15:30:59.915644Z",
     "shell.execute_reply.started": "2022-05-26T15:30:59.893247Z"
    }
   },
   "outputs": [],
   "source": [
    "cv.get_feature_names()"
   ]
  },
  {
   "cell_type": "code",
   "execution_count": 33,
   "metadata": {
    "execution": {
     "iopub.execute_input": "2022-05-26T15:31:06.364175Z",
     "iopub.status.busy": "2022-05-26T15:31:06.363737Z",
     "iopub.status.idle": "2022-05-26T15:31:06.368475Z",
     "shell.execute_reply": "2022-05-26T15:31:06.367582Z",
     "shell.execute_reply.started": "2022-05-26T15:31:06.364142Z"
    }
   },
   "outputs": [],
   "source": [
    "from sklearn.metrics.pairwise import cosine_similarity"
   ]
  },
  {
   "cell_type": "code",
   "execution_count": 34,
   "metadata": {
    "execution": {
     "iopub.execute_input": "2022-05-26T15:31:12.307965Z",
     "iopub.status.busy": "2022-05-26T15:31:12.307555Z",
     "iopub.status.idle": "2022-05-26T15:31:13.947035Z",
     "shell.execute_reply": "2022-05-26T15:31:13.946057Z",
     "shell.execute_reply.started": "2022-05-26T15:31:12.307931Z"
    }
   },
   "outputs": [],
   "source": [
    "cosine_similarity(vectors)"
   ]
  },
  {
   "cell_type": "code",
   "execution_count": 35,
   "metadata": {
    "execution": {
     "iopub.execute_input": "2022-05-26T15:31:20.837817Z",
     "iopub.status.busy": "2022-05-26T15:31:20.837383Z",
     "iopub.status.idle": "2022-05-26T15:31:22.665373Z",
     "shell.execute_reply": "2022-05-26T15:31:22.663586Z",
     "shell.execute_reply.started": "2022-05-26T15:31:20.837784Z"
    }
   },
   "outputs": [],
   "source": [
    "similarity = cosine_similarity(vectors)"
   ]
  },
  {
   "cell_type": "code",
   "execution_count": 36,
   "metadata": {
    "execution": {
     "iopub.execute_input": "2022-05-26T15:31:25.762261Z",
     "iopub.status.busy": "2022-05-26T15:31:25.761176Z",
     "iopub.status.idle": "2022-05-26T15:31:25.771667Z",
     "shell.execute_reply": "2022-05-26T15:31:25.770795Z",
     "shell.execute_reply.started": "2022-05-26T15:31:25.762222Z"
    }
   },
   "outputs": [],
   "source": [
    "similarity[1]"
   ]
  },
  {
   "cell_type": "code",
   "execution_count": 37,
   "metadata": {
    "execution": {
     "iopub.execute_input": "2022-05-26T15:31:40.159068Z",
     "iopub.status.busy": "2022-05-26T15:31:40.158323Z",
     "iopub.status.idle": "2022-05-26T15:31:40.166757Z",
     "shell.execute_reply": "2022-05-26T15:31:40.165868Z",
     "shell.execute_reply.started": "2022-05-26T15:31:40.159020Z"
    }
   },
   "outputs": [],
   "source": [
    "def recommend(medicine):\n",
    "    medicine_index = new_df[new_df['Drug_Name'] == medicine].index[0]\n",
    "    distances = similarity[medicine_index]\n",
    "    medicines_list = sorted(list(enumerate(distances)),reverse=True,key=lambda x:x[1])[1:6]\n",
    "    \n",
    "    for i in medicines_list:\n",
    "        print(new_df.iloc[i[0]].Drug_Name)\n",
    "    "
   ]
  },
  {
   "cell_type": "code",
   "execution_count": 38,
   "metadata": {
    "execution": {
     "iopub.execute_input": "2022-05-26T15:31:57.566701Z",
     "iopub.status.busy": "2022-05-26T15:31:57.565934Z",
     "iopub.status.idle": "2022-05-26T15:31:57.589837Z",
     "shell.execute_reply": "2022-05-26T15:31:57.588991Z",
     "shell.execute_reply.started": "2022-05-26T15:31:57.566659Z"
    }
   },
   "outputs": [],
   "source": [
    "recommend(\"Paracetamol 125mg Syrup 60mlParacetamol 500mg Tablet 10'S\")"
   ]
  },
  {
   "cell_type": "code",
   "execution_count": 39,
   "metadata": {
    "execution": {
     "iopub.execute_input": "2022-05-26T15:32:35.447060Z",
     "iopub.status.busy": "2022-05-26T15:32:35.446511Z",
     "iopub.status.idle": "2022-05-26T15:32:35.451544Z",
     "shell.execute_reply": "2022-05-26T15:32:35.450612Z",
     "shell.execute_reply.started": "2022-05-26T15:32:35.447016Z"
    }
   },
   "outputs": [],
   "source": [
    "import pickle"
   ]
  },
  {
   "cell_type": "code",
   "execution_count": 40,
   "metadata": {
    "execution": {
     "iopub.execute_input": "2022-05-26T15:32:53.662097Z",
     "iopub.status.busy": "2022-05-26T15:32:53.661648Z",
     "iopub.status.idle": "2022-05-26T15:32:56.474199Z",
     "shell.execute_reply": "2022-05-26T15:32:56.473238Z",
     "shell.execute_reply.started": "2022-05-26T15:32:53.662065Z"
    }
   },
   "outputs": [],
   "source": [
    "pickle.dump(new_df.to_dict(),open('medicine_dict.pkl','wb'))\n",
    "pickle.dump(similarity,open('similarity.pkl','wb'))"
   ]
  },
  {
   "cell_type": "code",
   "execution_count": null,
   "metadata": {},
   "outputs": [],
   "source": []
  }
 ],
 "metadata": {
  "kernelspec": {
   "display_name": "Python 3 (ipykernel)",
   "language": "python",
   "name": "python3"
  },
  "language_info": {
   "codemirror_mode": {
    "name": "ipython",
    "version": 3
   },
   "file_extension": ".py",
   "mimetype": "text/x-python",
   "name": "python",
   "nbconvert_exporter": "python",
   "pygments_lexer": "ipython3",
   "version": "3.11.5"
  }
 },
 "nbformat": 4,
 "nbformat_minor": 4
}
